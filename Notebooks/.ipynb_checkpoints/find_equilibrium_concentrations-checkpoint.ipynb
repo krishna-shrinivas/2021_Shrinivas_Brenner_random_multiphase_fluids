{
 "cells": [
  {
   "cell_type": "markdown",
   "id": "ideal-thursday",
   "metadata": {},
   "source": [
    "# Goal is to infer the number of co-existing phases as well as their compositions for a given instability"
   ]
  },
  {
   "cell_type": "code",
   "execution_count": 16,
   "id": "marine-communications",
   "metadata": {},
   "outputs": [],
   "source": [
    "import numpy as np\n",
    "import scipy.optimize as sp\n",
    "import matplotlib.pyplot as plt\n",
    "from mpl_toolkits.mplot3d import Axes3D"
   ]
  },
  {
   "cell_type": "markdown",
   "id": "assured-creativity",
   "metadata": {},
   "source": [
    "## Define F-H free-energy class that returns chemical potentials and other relevant quantities"
   ]
  },
  {
   "cell_type": "code",
   "execution_count": 167,
   "id": "consistent-vancouver",
   "metadata": {},
   "outputs": [],
   "source": [
    "class free_energy():\n",
    "    \n",
    "    def __init__(self,c0,chi,chis):\n",
    "        self.c0 = c0;\n",
    "        self.NCom = c0.shape[0];\n",
    "        self.chi = chi;\n",
    "        self.chis = chis;\n",
    "        self.cs = 1- np.sum(c0);\n",
    "        \n",
    "    def f(self,c):\n",
    "        f = np.sum(c*np.log(c)) + np.linalg.multi_dot((c.T,self.chi,c)) + (1-np.sum(c))*(np.log(1-np.sum(c)) + np.dot(chis.T,c)) \n",
    "        return(f)\n",
    "    \n",
    "    def jacobian(self,c,all_flag=True):\n",
    "        J = self.chi + np.identity(self.NCom)/(c) + 1/(1-np.sum(c))  - self.chis - self.chis.T\n",
    "        wJ, vJ = np.linalg.eig(J)\n",
    "        if all_flag: \n",
    "            return(J,wJ,vJ)\n",
    "        else:\n",
    "            return(min(np.linalg.eigvals(J)))\n",
    "    \n",
    "    def mu(self,c):\n",
    "        c = np.matrix(c).T\n",
    "        cs = 1- np.sum(c);\n",
    "        mu = np.log(c) -np.log(cs) +np.dot(self.chi,c) + cs*self.chis - np.dot(self.chis.T,c);\n",
    "        return(mu.A1)\n",
    "    \n",
    "    def hessian(self,c,all_flag=True):\n",
    "        J = self.chi + np.identity(self.NCom)/(c) + 1/(1-np.sum(c))  - self.chis - self.chis.T\n",
    "        return(J)\n",
    "    \n",
    "    def laplace_corrected_mu(self,c1,c2):\n",
    "        cs1 = 1- np.sum(c1);\n",
    "        cs2 = 1- np.sum(c2);\n",
    "        residual_12 = np.log(c1/c2) - 0.5*np.linalg.multi_dot((c1.T,self.chi,c1)) + 0.5*np.linalg.multi_dot((c2.T,self.chi,c2)) + self.chis*(cs1-cs2) + np.dot(self.chi-self.chis.T,c1-c2);\n",
    "        return(np.power(residual_12,2))"
   ]
  },
  {
   "cell_type": "code",
   "execution_count": 3,
   "id": "missing-healthcare",
   "metadata": {},
   "outputs": [],
   "source": [
    "def pairwise_dist(x1,x2):\n",
    "    r=0.0;\n",
    "    for i in range(len(x1)):\n",
    "        r+= (x1[i]-x2[i])**2;\n",
    "    r = (r)**0.5;\n",
    "    return(r)"
   ]
  },
  {
   "cell_type": "markdown",
   "id": "dominant-bicycle",
   "metadata": {},
   "source": [
    "## Initialize system (number of species + intial concentrations + interaction structures)"
   ]
  },
  {
   "cell_type": "code",
   "execution_count": 168,
   "id": "daily-indonesian",
   "metadata": {},
   "outputs": [
    {
     "name": "stdout",
     "output_type": "stream",
     "text": [
      "Random seed is 40873\n",
      "Chi is \n",
      " [[0.  5.5 5.5 5.5]\n",
      " [5.5 0.  5.5 5.5]\n",
      " [5.5 5.5 0.  5.5]\n",
      " [5.5 5.5 5.5 0. ]]\n",
      "eigen values are [-0.5, -0.4999999999999991, -0.49999999999999645, 41.50000000000001]\n",
      "[1.03056209]\n",
      "[3.3 3.3 3.3 3.3]\n",
      "[[10.  10.5 10.5 10.5]\n",
      " [10.5 10.  10.5 10.5]\n",
      " [10.5 10.5 10.  10.5]\n",
      " [10.5 10.5 10.5 10. ]]\n"
     ]
    }
   ],
   "source": [
    "random_seed = np.random.randint(1e6)\n",
    "# random_seed = 983567;\n",
    "print(\"Random seed is {}\".format(random_seed))\n",
    "np.random.seed(seed=random_seed)\n",
    "\n",
    "NCom  = 4;\n",
    "beta =(NCom)/(NCom+1);\n",
    "\n",
    "c0 = beta*np.ones((NCom))/NCom\n",
    "# chi (i,j) interaction matrix\n",
    "chi_mean = 5.5;\n",
    "chi_std =0.0*(NCom)**0.5\n",
    "chi = chi_std*np.random.randn(NCom,NCom) + chi_mean;\n",
    "np.fill_diagonal(chi, 0);\n",
    "for i in np.arange(len(chi)-1):\n",
    "    for j in np.arange(i+1,len(chi)):\n",
    "        chi[i,j] = chi[j,i]\n",
    "\n",
    "# chi(i,s) solvent interactions\n",
    "chis = np.zeros((NCom,1))\n",
    "\n",
    "print(\"Chi is \\n {}\".format(chi))\n",
    "\n",
    "FH = free_energy(c0=c0,chi=chi,chis=chis);\n",
    "J,wJ,vJ = FH.jacobian(c0);\n",
    "print(\"eigen values are {}\".format(sorted(wJ)))\n",
    "print(FH.f(c0))\n",
    "print(FH.mu(c0))\n",
    "print(FH.hessian(c0))"
   ]
  },
  {
   "cell_type": "code",
   "execution_count": 161,
   "id": "welcome-ownership",
   "metadata": {},
   "outputs": [],
   "source": [
    "def find_minima(FH,Nsteps):\n",
    "    \n",
    "    bound= 1e-6;\n",
    "    lb = bound*np.ones(FH.NCom)\n",
    "    ub = (1-bound)*np.ones(FH.NCom)\n",
    "    bounds = sp.Bounds(lb,ub)\n",
    "    constraint = np.ones(FH.NCom)\n",
    "    linear_constraint = sp.LinearConstraint(constraint, [1e-3],[1-bound])\n",
    "    all_res = [];\n",
    "    for i in range(Nsteps):\n",
    "        c0 = np.zeros(NCom)       \n",
    "        if (i%2==0):\n",
    "            c0[np.random.randint(NCom)] = 1.0\n",
    "        c0 += np.random.uniform(0,0.1,NCom)   \n",
    "        c0 = 0.99*c0/sum(c0)\n",
    "    #     print(c0,FH.jacobian(c0,all_flag=False))\n",
    "        res = sp.minimize(FH.f, c0, jac=FH.mu, hess=FH.hessian, options={'ftol': 1e-12, 'disp': False},bounds=bounds,constraints=linear_constraint)\n",
    "        all_res.append(res);\n",
    "        \n",
    "    return(all_res)\n",
    "\n",
    "def compute_coexisting_phases(all_res,FH,tol=5e-2):\n",
    "    i=0;\n",
    "    dist = [];\n",
    "    nphases =1;\n",
    "    x0 = []\n",
    "    x0.append(all_res[0].x)\n",
    "    all_r = [];\n",
    "    fres = [];\n",
    "    J_phases = [];\n",
    "    fres.append(all_res[0])\n",
    "    J_phases.append(FH.jacobian(all_res[0].x,all_flag=False))\n",
    "    for i in range(0,len(all_res)):\n",
    "        r = [];\n",
    "        for j in range(0,len(x0)):\n",
    "            r.append(pairwise_dist(all_res[i].x,x0[j]))\n",
    "        all_r.append(r)\n",
    "        if(min(r))>tol:\n",
    "            nphases+=1;\n",
    "            x0.append(all_res[i].x)\n",
    "            fres.append(all_res[i])\n",
    "            J_phases.append(FH.jacobian(all_res[i].x,all_flag=False))\n",
    "\n",
    "    angles = np.zeros((nphases,nphases))\n",
    "    for i in range(nphases-1):\n",
    "        for j in range(i+1,nphases):\n",
    "            vector_p = np.dot(x0[i],x0[j])/(np.linalg.norm(x0[i])*np.linalg.norm(x0[j]))\n",
    "            angles[i,j] = (np.arccos(vector_p)/np.pi)*180\n",
    "            angles[j,i] = angles[i,j]\n",
    "            \n",
    "    return (nphases,fres,J_phases,angles,x0)"
   ]
  },
  {
   "cell_type": "code",
   "execution_count": 156,
   "id": "sixth-evolution",
   "metadata": {},
   "outputs": [],
   "source": [
    "Nsteps = 100;\n",
    "\n",
    "all_res = find_minima(FH,Nsteps);\n"
   ]
  },
  {
   "cell_type": "code",
   "execution_count": 165,
   "id": "growing-creativity",
   "metadata": {},
   "outputs": [
    {
     "data": {
      "text/plain": [
       "     fun: array([-0.69258626])\n",
       "     jac: array([-1.90474453, -1.65914362, -0.19198897, -2.56699776])\n",
       " message: 'Iteration limit reached'\n",
       "    nfev: 1047\n",
       "     nit: 100\n",
       "    njev: 100\n",
       "  status: 9\n",
       " success: False\n",
       "       x: array([0.00805363, 0.01043119, 0.41214311, 0.004063  ])"
      ]
     },
     "execution_count": 165,
     "metadata": {},
     "output_type": "execute_result"
    }
   ],
   "source": [
    "fres[0]"
   ]
  },
  {
   "cell_type": "code",
   "execution_count": 166,
   "id": "chubby-department",
   "metadata": {},
   "outputs": [
    {
     "name": "stdout",
     "output_type": "stream",
     "text": [
      "number of minima are 6 and the concentrations are \n",
      " [[0.00805363 0.01043119 0.41214311 0.004063  ]\n",
      " [0.11719846 0.11431479 0.05670439 0.03586869]\n",
      " [0.00233907 0.47992666 0.00238806 0.00262336]\n",
      " [0.01355226 0.09335688 0.22692892 0.02028081]\n",
      " [0.00250312 0.00244607 0.00241268 0.48061651]\n",
      " [0.42668026 0.00387976 0.00359848 0.02398332]]\n",
      "stability of minima are [3.1032034259290353, 3.1383807604958194, 3.638783287333922, 1.2259178620817475, 3.6376161968366887, 2.603420309853931] and the angles are \n",
      " [[ 0.         69.41584679 88.25699791 21.37589816 89.13481601 88.35565987]\n",
      " [69.41584679  0.         49.30771488 53.65749754 77.81533011 47.05986636]\n",
      " [88.25699791 49.30771488  0.         67.42632049 89.39235826 89.18111808]\n",
      " [21.37589816 53.65749754 67.42632049  0.         84.8896671  85.94764286]\n",
      " [89.13481601 77.81533011 89.39235826 84.8896671   0.         86.47972   ]\n",
      " [88.35565987 47.05986636 89.18111808 85.94764286 86.47972     0.        ]]\n",
      "free-energies of minima are [array([-0.69258626]), array([-0.64054125]), array([-0.70001011]), array([-0.62236835]), array([-0.70000723]), array([-0.67690282])] and the chemical potential are \n",
      " [array([-1.90474453, -1.65914362, -0.19198897, -2.56699776]), array([-0.61431327, -0.62336586, -1.00761296, -1.35100356]), array([-2.72282144, -0.0256744 , -2.70236305, -2.60968398]), array([-1.99094564, -0.49999493, -0.34643388, -1.62483097]), array([-2.65071528, -2.67345455, -2.68701698, -0.02280685]), array([-0.06593081, -2.44079045, -2.51450363, -0.72977402])]\n"
     ]
    }
   ],
   "source": [
    "(nphases,fres,J_phases,angles,x0)  = compute_coexisting_phases(all_res,FH,tol=2e-1)\n",
    "print(\"number of minima are {} and the concentrations are \\n {}\".format(nphases,np.matrix(x0)))\n",
    "print(\"stability of minima are {} and the angles are \\n {}\".format(J_phases,np.matrix(angles)))\n",
    "fall = [((a.fun)) for a in fres]\n",
    "muall = [((a.jac)) for a in fres]\n",
    "\n",
    "print(\"free-energies of minima are {} and the chemical potential are \\n {}\".format(fall,muall))\n"
   ]
  },
  {
   "cell_type": "code",
   "execution_count": 102,
   "id": "retained-locator",
   "metadata": {},
   "outputs": [
    {
     "data": {
      "text/plain": [
       "[<matplotlib.lines.Line2D at 0x7fbd9d8ed8e0>]"
      ]
     },
     "execution_count": 102,
     "metadata": {},
     "output_type": "execute_result"
    },
    {
     "data": {
      "image/png": "[encoded data removed]",
      "text/plain": [
       "<Figure size 432x288 with 1 Axes>"
      ]
     },
     "metadata": {
      "needs_background": "light"
     },
     "output_type": "display_data"
    }
   ],
   "source": [
    "fall = [np.log(np.abs(a.fun)) for a in all_res]\n",
    "plt.plot(fall)"
   ]
  },
  {
   "cell_type": "code",
   "execution_count": 79,
   "id": "relative-moore",
   "metadata": {},
   "outputs": [
    {
     "name": "stdout",
     "output_type": "stream",
     "text": [
      "number of minima are 1 and the concentrations are \n",
      " [[0.40150615 0.47640617 0.0892758  0.00050971]]\n"
     ]
    }
   ],
   "source": [
    "print(\"number of minima are {} and the concentrations are \\n {}\".format(nphases,np.matrix(x0)))"
   ]
  },
  {
   "cell_type": "code",
   "execution_count": 61,
   "id": "collected-reason",
   "metadata": {},
   "outputs": [
    {
     "data": {
      "text/plain": [
       "6.785887237011492"
      ]
     },
     "execution_count": 61,
     "metadata": {},
     "output_type": "execute_result"
    }
   ],
   "source": [
    "FH.jacobian(fres[0].x,all_flag=False)"
   ]
  },
  {
   "cell_type": "code",
   "execution_count": 121,
   "id": "framed-newfoundland",
   "metadata": {},
   "outputs": [
    {
     "name": "stdout",
     "output_type": "stream",
     "text": [
      "[-3.30956215] [[ 2.37656455  1.98922554 -1.40460802  2.22526097]\n",
      " [ 2.37656455  1.98922554 -1.40460802  2.22526097]\n",
      " [ 2.37656455  1.98922554 -1.40460802  2.22526097]\n",
      " [ 2.37656455  1.98922554 -1.40460802  2.22526097]] 4.483086756006283\n",
      "[-0.69328413] [[-9.12002704e+00]\n",
      " [-9.66348683e+00]\n",
      " [ 1.55566682e-04]\n",
      " [-6.69795430e+00]] 3.998748574014112\n"
     ]
    }
   ],
   "source": [
    "sol = fres[0].x;\n",
    "print(FH.f(sol),FH.mu(sol),FH.jacobian(sol,all_flag=False))\n",
    "test =np.array([1e-6,1e-5,0.5,1e-5]);\n",
    "print(FH.f(test),FH.mu(np.matrix(test).T),FH.jacobian(test,all_flag=False))\n"
   ]
  },
  {
   "cell_type": "code",
   "execution_count": 132,
   "id": "boolean-montreal",
   "metadata": {},
   "outputs": [
    {
     "name": "stdout",
     "output_type": "stream",
     "text": [
      "[-9.12002704e+00 -9.66348683e+00  1.55566682e-04 -6.69795430e+00]\n"
     ]
    }
   ],
   "source": [
    "mm = FH.mu(np.matrix(test).T)\n",
    "print(mm.A1)"
   ]
  },
  {
   "cell_type": "code",
   "execution_count": 265,
   "id": "sudden-watch",
   "metadata": {},
   "outputs": [
    {
     "data": {
      "text/plain": [
       "<AxesSubplot:ylabel='Count'>"
      ]
     },
     "execution_count": 265,
     "metadata": {},
     "output_type": "execute_result"
    },
    {
     "data": {
      "image/png": "[encoded data removed]",
      "text/plain": [
       "<Figure size 432x288 with 1 Axes>"
      ]
     },
     "metadata": {
      "needs_background": "light"
     },
     "output_type": "display_data"
    }
   ],
   "source": [
    "sns.histplot(np.log10(np.array(all_r)+1e-8))"
   ]
  },
  {
   "cell_type": "code",
   "execution_count": 334,
   "id": "boxed-debate",
   "metadata": {},
   "outputs": [],
   "source": [
    "def metropolis_sampling(c0,Nruns=200,temp=10.0,step_size=0.025):\n",
    "    f0 = FH.f(c0)\n",
    "    fall = [];\n",
    "    call = [];\n",
    "    fall.append(f0)\n",
    "    call.append(c0)\n",
    "    Ncom = len(c0);\n",
    "    Ncount = 0;\n",
    "    for i in range(Nruns):\n",
    "        step_flag=False;\n",
    "        while(step_flag==False):\n",
    "            delta = step_size*np.random.uniform(-1,1,Ncom)\n",
    "            Ncount+=1\n",
    "            if (max(c0+delta)<1) and (min(c0+delta)>0) and (sum(c0+delta)<1):\n",
    "                deltaf = FH.f(c0+delta)-f0\n",
    "                u = np.random.uniform(0,1);\n",
    "                if u> (1/(1+np.exp(-deltaf*beta))):\n",
    "                    c0 = c0 +delta;\n",
    "                    f0 = f0+ deltaf;\n",
    "                    call.append(c0);\n",
    "                    fall.append(f0)\n",
    "                step_flag=True;\n",
    "    return(call,fall,Ncount)\n",
    "            \n",
    "                "
   ]
  },
  {
   "cell_type": "code",
   "execution_count": 439,
   "id": "insured-notification",
   "metadata": {},
   "outputs": [],
   "source": [
    "Nruns = 50;\n",
    "ct = []\n",
    "ft = []\n",
    "for i in range(Nruns):\n",
    "    c0 = np.random.uniform(0,1,NCom)\n",
    "    c0 = 0.99*c0/sum(c0)\n",
    "    call,fall,Ncount = metropolis_sampling(c0,Nruns=10000,temp=1e5,step_size=0.01)\n",
    "    ind = fall.index(min(fall))\n",
    "    ct.append(call[ind]);\n",
    "    ft.append(fall[ind])"
   ]
  },
  {
   "cell_type": "code",
   "execution_count": 435,
   "id": "democratic-medicaid",
   "metadata": {},
   "outputs": [
    {
     "name": "stdout",
     "output_type": "stream",
     "text": [
      "[0.48916157 0.00195022 0.49398247] [-3.2655639]\n"
     ]
    }
   ],
   "source": [
    "ft_i = ft.index(min(ft))\n",
    "print(ct[ft_i],ft[ft_i])"
   ]
  },
  {
   "cell_type": "code",
   "execution_count": 438,
   "id": "assisted-speech",
   "metadata": {},
   "outputs": [
    {
     "data": {
      "text/plain": [
       "[<matplotlib.lines.Line2D at 0x7fa20f66ac10>]"
      ]
     },
     "execution_count": 438,
     "metadata": {},
     "output_type": "execute_result"
    },
    {
     "data": {
      "image/png": "[encoded data removed]",
      "text/plain": [
       "<Figure size 432x288 with 1 Axes>"
      ]
     },
     "metadata": {
      "needs_background": "light"
     },
     "output_type": "display_data"
    }
   ],
   "source": [
    "plt.plot(fall)"
   ]
  },
  {
   "cell_type": "code",
   "execution_count": 197,
   "id": "theoretical-hurricane",
   "metadata": {},
   "outputs": [],
   "source": [
    "covariance_matrix = np.cov(c_all)/c_all.shape[0]\n",
    "v, w = np.linalg.eig(covariance_matrix)\n",
    "idx = v.argsort()[::-1] # Sort descending and get sorted indices\n",
    "v = v[idx] # Use indices on eigv vector\n",
    "w = w[:,idx] # \n",
    "# print(\"Eigenvalues: \\n\", v, \"\\n\")\n",
    "\n",
    "# print(\"Eigenvector: \\n\",w,\"\\n\")\n",
    "variance_explained = []\n",
    "for i in v:\n",
    "     variance_explained.append((i/sum(v))*100)\n",
    "        \n",
    "# print(variance_explained)"
   ]
  },
  {
   "cell_type": "code",
   "execution_count": 198,
   "id": "brilliant-milton",
   "metadata": {},
   "outputs": [
    {
     "name": "stderr",
     "output_type": "stream",
     "text": [
      "/home/krishna/anaconda3/lib/python3.8/site-packages/numpy/core/_asarray.py:136: ComplexWarning: Casting complex values to real discards the imaginary part\n",
      "  return array(a, dtype, copy=False, order=order, subok=True)\n"
     ]
    },
    {
     "data": {
      "image/png": "[encoded data removed]",
      "text/plain": [
       "<Figure size 432x288 with 1 Axes>"
      ]
     },
     "metadata": {
      "needs_background": "light"
     },
     "output_type": "display_data"
    }
   ],
   "source": [
    "fig,axes = plt.subplots(1,1)\n",
    "axes.scatter(c_all.T.dot(w[:,0]),c_all.T.dot(w[:,2]))\n",
    "plt.show()"
   ]
  },
  {
   "cell_type": "code",
   "execution_count": 189,
   "id": "opposite-helicopter",
   "metadata": {},
   "outputs": [],
   "source": [
    "import seaborn as sns"
   ]
  },
  {
   "cell_type": "code",
   "execution_count": 195,
   "id": "choice-stephen",
   "metadata": {},
   "outputs": [
    {
     "data": {
      "image/png": "[encoded data removed]",
      "text/plain": [
       "<Figure size 432x288 with 1 Axes>"
      ]
     },
     "metadata": {
      "needs_background": "light"
     },
     "output_type": "display_data"
    }
   ],
   "source": [
    "sns.histplot(data=dist)\n",
    "plt.show()"
   ]
  },
  {
   "cell_type": "code",
   "execution_count": 206,
   "id": "express-private",
   "metadata": {},
   "outputs": [
    {
     "data": {
      "text/plain": [
       "array([-0.66789197])"
      ]
     },
     "execution_count": 206,
     "metadata": {},
     "output_type": "execute_result"
    }
   ],
   "source": [
    "all_res[2].fun"
   ]
  },
  {
   "cell_type": "code",
   "execution_count": 318,
   "id": "stone-settle",
   "metadata": {},
   "outputs": [],
   "source": [
    "def optimize_compositions(c,NCom,nphases,c0,lambdam=1e3):\n",
    "    ctest = c[:NCom*nphases].reshape((NCom,nphases))\n",
    "    v =  list(c[NCom*nphases:]);\n",
    "    v.append(1-sum(v))\n",
    "    v = np.matrix(v).T;\n",
    "    residual = [];\n",
    "    for i in np.arange(1,nphases):\n",
    "        residual.append(np.sum(FH.laplace_corrected_mu(np.matrix(ctest[:,0]).T,np.matrix(ctest[:,i]).T)))\n",
    "    for i in np.arange(0,nphases-1):\n",
    "        for j in np.arange(1,nphases):\n",
    "            residual.append( np.exp( -10*np.sum((ctest[:,i] - ctest[:,j])**2)))\n",
    "            \n",
    "    mass_balance_residual = lambdam*np.sum(np.power((ctest*v -c0),2));\n",
    "    residual.append(mass_balance_residual)\n",
    "    return(np.array(residual))"
   ]
  },
  {
   "cell_type": "code",
   "execution_count": 326,
   "id": "prime-armor",
   "metadata": {},
   "outputs": [
    {
     "name": "stdout",
     "output_type": "stream",
     "text": [
      "[0.33333333 0.33333333]\n",
      "Initial residual b/w 0 and 1 is \n",
      " 5.3098469994672115\n",
      "Initial residual b/w 0 and 2 is \n",
      " 7.2305946010743\n"
     ]
    }
   ],
   "source": [
    "if min(wJ)<0:\n",
    "    nphases = 3;\n",
    "    ctest = np.ones((NCom,nphases)) ;\n",
    "    for i in range(nphases):\n",
    "        ctest[:,i] = (c0*(1+0.2*np.random.randn(1)) + 0.4*beta/NCom*np.random.uniform(size=(NCom,1))).flatten()\n",
    "        \n",
    "    v = [];\n",
    "    for i in range(nphases-1):\n",
    "        v.append(1/nphases)\n",
    "    v = np.array(v)\n",
    "    print(v)\n",
    "    residual = []\n",
    "    for i in np.arange(1,nphases):\n",
    "        residual.append(FH.laplace_corrected_mu(np.matrix(ctest[:,0]).T,np.matrix(ctest[:,i]).T))\n",
    "        print(\"Initial residual b/w 0 and {} is \\n {}\".format(i,np.sum(residual)))"
   ]
  },
  {
   "cell_type": "code",
   "execution_count": 327,
   "id": "instructional-credits",
   "metadata": {},
   "outputs": [
    {
     "name": "stdout",
     "output_type": "stream",
     "text": [
      "[[0.0921113  0.20802433 0.13631501]\n",
      " [0.09367488 0.20192511 0.18628129]\n",
      " [0.10660084 0.19693348 0.15517039]\n",
      " [0.13471938 0.22807135 0.16636835]\n",
      " [0.12779324 0.19318112 0.18188364]\n",
      " [0.12428903 0.23010576 0.17390049]]\n"
     ]
    }
   ],
   "source": [
    "c = np.concatenate([ctest.flatten(),v])\n",
    "lb = 1e-6*np.ones(len(c))\n",
    "ub = 0.99*np.ones(len(c))\n",
    "print(ctest)"
   ]
  },
  {
   "cell_type": "code",
   "execution_count": 328,
   "id": "compliant-bhutan",
   "metadata": {},
   "outputs": [
    {
     "name": "stdout",
     "output_type": "stream",
     "text": [
      " active_mask: array([0, 0, 0, 0, 0, 0, 0, 0, 0, 0, 0, 0, 0, 0, 0, 0, 0, 0, 0, 0])\n",
      "        cost: 0.5679820566964814\n",
      "         fun: array([0.21218693, 0.1291572 , 0.171456  , 0.05536207, 1.        ,\n",
      "       0.17303575, 0.10888411])\n",
      "        grad: array([-0.00935409,  0.00668706,  0.01332804,  0.00064475,  0.0060688 ,\n",
      "        0.0108175 ,  0.00742253, -0.0031061 , -0.00619007,  0.01608576,\n",
      "        0.01499445,  0.00417354,  0.04251005,  0.01727602,  0.00229212,\n",
      "        0.01882662,  0.01865504,  0.02023929,  0.09605524, -0.02731472])\n",
      "         jac: array([[ 5.79367483e-01, -3.38792290e+00,  0.00000000e+00,\n",
      "        -3.35688464e-01,  2.57824395e-01,  0.00000000e+00,\n",
      "         7.47133035e-01, -6.52819706e-01,  0.00000000e+00,\n",
      "        -2.02149816e+00, -6.10166488e-01,  0.00000000e+00,\n",
      "         6.09715535e+00, -4.24205228e+00,  0.00000000e+00,\n",
      "        -1.21958700e+00, -1.22966659e+00,  0.00000000e+00,\n",
      "         0.00000000e+00,  0.00000000e+00],\n",
      "       [ 3.26442188e-01,  0.00000000e+00, -4.41835290e+00,\n",
      "         3.48220564e-01,  0.00000000e+00, -8.24343866e-01,\n",
      "        -1.47622040e+00,  0.00000000e+00, -3.84161860e-01,\n",
      "         2.55802248e+00,  0.00000000e+00, -2.85528290e+00,\n",
      "        -1.05011465e+01,  0.00000000e+00, -3.91444867e+00,\n",
      "         9.94219553e-01,  0.00000000e+00, -4.55840952e+00,\n",
      "         0.00000000e+00,  0.00000000e+00],\n",
      "       [-1.22261449e+00,  1.22261457e+00,  0.00000000e+00,\n",
      "         1.52367678e-01, -1.52367732e-01,  0.00000000e+00,\n",
      "         1.20272810e-01, -1.20272860e-01,  0.00000000e+00,\n",
      "         4.71274702e-01, -4.71274735e-01,  0.00000000e+00,\n",
      "         2.64898781e-02, -2.64899321e-02,  0.00000000e+00,\n",
      "         5.64200655e-01, -5.64200679e-01,  0.00000000e+00,\n",
      "         0.00000000e+00,  0.00000000e+00],\n",
      "       [-4.75231069e-01,  0.00000000e+00,  4.75231112e-01,\n",
      "        -7.95034645e-02,  0.00000000e+00,  7.95034477e-02,\n",
      "         1.28320016e-01,  0.00000000e+00, -1.28320031e-01,\n",
      "        -7.30291149e-03,  0.00000000e+00,  7.30289146e-03,\n",
      "         3.18604050e-01,  0.00000000e+00, -3.18604042e-01,\n",
      "        -6.77442243e-02,  0.00000000e+00,  6.77442090e-02,\n",
      "         0.00000000e+00,  0.00000000e+00],\n",
      "       [ 0.00000000e+00,  0.00000000e+00,  0.00000000e+00,\n",
      "         0.00000000e+00,  0.00000000e+00,  0.00000000e+00,\n",
      "         0.00000000e+00,  0.00000000e+00,  0.00000000e+00,\n",
      "         0.00000000e+00,  0.00000000e+00,  0.00000000e+00,\n",
      "         0.00000000e+00,  0.00000000e+00,  0.00000000e+00,\n",
      "         0.00000000e+00,  0.00000000e+00,  0.00000000e+00,\n",
      "         0.00000000e+00,  0.00000000e+00],\n",
      "       [ 0.00000000e+00, -2.51469094e-01,  2.51469044e-01,\n",
      "         0.00000000e+00, -4.02261941e-01,  4.02261900e-01,\n",
      "         0.00000000e+00,  2.79686904e-01, -2.79686948e-01,\n",
      "         0.00000000e+00, -4.98442357e-01,  4.98442328e-01,\n",
      "         0.00000000e+00,  9.69072150e-01, -9.69072120e-01,\n",
      "         0.00000000e+00, -7.81135559e-01,  7.81135561e-01,\n",
      "         0.00000000e+00,  0.00000000e+00],\n",
      "       [ 5.64671113e-01,  5.13801841e+00,  4.72215105e+00,\n",
      "         4.75311773e-02,  4.32495535e-01,  3.97489425e-01,\n",
      "         1.08643932e-01,  9.88568356e-01,  9.08554155e-01,\n",
      "         3.14422947e-01,  2.86097801e+00,  2.62941248e+00,\n",
      "         7.61282914e-01,  6.92701452e+00,  6.36634727e+00,\n",
      "         5.16248894e-01,  4.69741824e+00,  4.31721270e+00,\n",
      "         8.82178656e-01, -2.50860459e-01]])\n",
      "     message: 'The maximum number of function evaluations is exceeded.'\n",
      "        nfev: 1000\n",
      "        njev: 751\n",
      "  optimality: 0.013579156762624237\n",
      "      status: 0\n",
      "     success: False\n",
      "           x: array([0.51821079, 0.16167194, 0.08900803, 0.15392105, 0.19835452,\n",
      "       0.08211787, 0.07407781, 0.10915177, 0.18996944, 0.08101145,\n",
      "       0.21844458, 0.07441587, 0.0157366 , 0.02346158, 0.30348237,\n",
      "       0.09424482, 0.25877702, 0.03306194, 0.05416595, 0.49286299])\n"
     ]
    }
   ],
   "source": [
    "binodal_points_opt = sp.least_squares(optimize_compositions,c,args=(NCom,nphases,c0),bounds=(lb,ub),ftol=1e-13,max_nfev=1000)\n",
    "print(binodal_points_opt)"
   ]
  },
  {
   "cell_type": "code",
   "execution_count": 329,
   "id": "interim-briefs",
   "metadata": {},
   "outputs": [
    {
     "name": "stdout",
     "output_type": "stream",
     "text": [
      "[[0.51821079 0.16167194 0.08900803]\n",
      " [0.15392105 0.19835452 0.08211787]\n",
      " [0.07407781 0.10915177 0.18996944]\n",
      " [0.08101145 0.21844458 0.07441587]\n",
      " [0.0157366  0.02346158 0.30348237]\n",
      " [0.09424482 0.25877702 0.03306194]]\n",
      "[[0.05416595]\n",
      " [0.49286299]\n",
      " [0.45297106]]\n"
     ]
    }
   ],
   "source": [
    "c_opt,v_opt = binodal_points_opt.x[:NCom*nphases].reshape((NCom,nphases)),list(binodal_points_opt.x[NCom*nphases:])\n",
    "v_opt.append(1-sum(v_opt))\n",
    "v_opt =np.matrix(v_opt).T\n",
    "\n",
    "print(c_opt)\n",
    "print(v_opt)"
   ]
  },
  {
   "cell_type": "code",
   "execution_count": 324,
   "id": "respected-advocate",
   "metadata": {},
   "outputs": [
    {
     "name": "stdout",
     "output_type": "stream",
     "text": [
      "[[1.15190799e-03]\n",
      " [4.70452343e-04]\n",
      " [6.52348035e-05]\n",
      " [3.59749284e-04]\n",
      " [1.34821150e-03]\n",
      " [1.59374106e-03]]\n"
     ]
    },
    {
     "data": {
      "text/plain": [
       "6.039577385712244e-06"
      ]
     },
     "execution_count": 324,
     "metadata": {},
     "output_type": "execute_result"
    }
   ],
   "source": [
    "print(c_opt*v_opt -c0)\n",
    "np.sum(np.power((c_opt*v_opt -c0),2))"
   ]
  },
  {
   "cell_type": "code",
   "execution_count": 323,
   "id": "transsexual-newspaper",
   "metadata": {},
   "outputs": [
    {
     "name": "stdout",
     "output_type": "stream",
     "text": [
      "Homogeneous vs phase-separated f are [[-2.13146622]],[[nan]]\n"
     ]
    },
    {
     "name": "stderr",
     "output_type": "stream",
     "text": [
      "<ipython-input-124-bcf237ed2f0a>:11: RuntimeWarning: invalid value encountered in log\n",
      "  f = np.sum(c*np.log(c)) + np.linalg.multi_dot((c.T,self.chi,c)) + (1-np.sum(c))*(np.log(1-np.sum(c)) + np.dot(chis.T,c))\n"
     ]
    }
   ],
   "source": [
    "f_init = (FH.f(c0))\n",
    "f_mix =0;\n",
    "for i in range(nphases-1):\n",
    "    f_mix += v_opt[i]*FH.f(c_opt[:,i])\n",
    "f_mix += (1-sum(v_opt))*FH.f(c_opt[:,-1])\n",
    "print(\"Homogeneous vs phase-separated f are {},{}\".format(f_init,f_mix))"
   ]
  },
  {
   "cell_type": "code",
   "execution_count": 66,
   "id": "undefined-night",
   "metadata": {},
   "outputs": [],
   "source": [
    "c0 = np.linspace(1e-3,1-1e-3,100)\n",
    "c1 = np.linspace(1e-3,1-1e-3,100)\n",
    "F = [];\n",
    "c0_p = []\n",
    "c1_p = [];\n",
    "for i in c0:\n",
    "    for j in c1:\n",
    "        if(i+j)<1-1e-3:\n",
    "            c_test= np.array([i,j])\n",
    "            F.append(FH.f(c_test))\n",
    "            c0_p.append(i)\n",
    "            c1_p.append(j)"
   ]
  },
  {
   "cell_type": "code",
   "execution_count": 67,
   "id": "broken-tuner",
   "metadata": {},
   "outputs": [],
   "source": []
  },
  {
   "cell_type": "code",
   "execution_count": 68,
   "id": "governmental-musical",
   "metadata": {},
   "outputs": [
    {
     "data": {
      "image/png": "[encoded data removed]",
      "text/plain": [
       "<Figure size 432x288 with 1 Axes>"
      ]
     },
     "metadata": {
      "needs_background": "light"
     },
     "output_type": "display_data"
    }
   ],
   "source": [
    "fig = plt.figure()\n",
    "ax = fig.add_subplot(111, projection='3d')\n",
    "ax.scatter(c0_p, c1_p, F)\n",
    "plt.show()"
   ]
  },
  {
   "cell_type": "code",
   "execution_count": 69,
   "id": "fantastic-theater",
   "metadata": {},
   "outputs": [
    {
     "name": "stdout",
     "output_type": "stream",
     "text": [
      "(array([ 146, 3573]), array([0, 0]))\n"
     ]
    }
   ],
   "source": [
    "index = np.where(F==min(F))\n",
    "print(index)\n"
   ]
  },
  {
   "cell_type": "code",
   "execution_count": 70,
   "id": "olympic-origin",
   "metadata": {},
   "outputs": [
    {
     "name": "stdout",
     "output_type": "stream",
     "text": [
      "[[0.01108081 0.47479798]\n",
      " [0.47479798 0.01108081]]\n"
     ]
    }
   ],
   "source": [
    "cop = []\n",
    "for i in index[0]:\n",
    "    cop.append(c0_p[i])\n",
    "    cop.append(c1_p[i])\n",
    "    \n",
    "ct = np.reshape(np.array(cop),(NCom,len(index[0])))\n",
    "print(ct)"
   ]
  },
  {
   "cell_type": "code",
   "execution_count": 74,
   "id": "combined-physics",
   "metadata": {},
   "outputs": [
    {
     "name": "stdout",
     "output_type": "stream",
     "text": [
      "[[3.6206711]\n",
      " [3.6206711]]\n",
      "(2, 1)\n",
      "[[0.96358128 2.86638739]\n",
      " [2.86638739 0.96358128]]\n",
      "[[-0.86575479 -0.00562033]\n",
      " [-0.00562033 -0.86575479]]\n"
     ]
    }
   ],
   "source": [
    "print(FH.laplace_corrected_mu(np.matrix(ct[:,0]).T,np.matrix(ct[:,1]).T))\n",
    "print(np.matrix(ct[:,0]).T.shape)\n",
    "print(FH.f(ct))\n"
   ]
  },
  {
   "cell_type": "code",
   "execution_count": 293,
   "id": "cathedral-yugoslavia",
   "metadata": {},
   "outputs": [
    {
     "name": "stdout",
     "output_type": "stream",
     "text": [
      "[[-1.5501473]\n",
      " [ 1.5501473]]\n"
     ]
    }
   ],
   "source": [
    "c1 = np.matrix(ct[:,0]).T\n",
    "c2 = np.matrix(ct[:,1]).T\n",
    "cs1 = 1- np.sum(c1);\n",
    "cs2 = 1- np.sum(c2);\n",
    "residual_12 = np.log(c1/c2) - 0.5*np.linalg.multi_dot((c1.T,chi,c1)) + 0.5*np.linalg.multi_dot((c2.T,chi,c2)) + chis*(cs1-cs2) + np.dot(chi-chis.T,c1-c2);\n",
    "print(residual_12)"
   ]
  }
 ],
 "metadata": {
  "kernelspec": {
   "display_name": "Python 3",
   "language": "python",
   "name": "python3"
  },
  "language_info": {
   "codemirror_mode": {
    "name": "ipython",
    "version": 3
   },
   "file_extension": ".py",
   "mimetype": "text/x-python",
   "name": "python",
   "nbconvert_exporter": "python",
   "pygments_lexer": "ipython3",
   "version": "3.8.5"
  }
 },
 "nbformat": 4,
 "nbformat_minor": 5
}
