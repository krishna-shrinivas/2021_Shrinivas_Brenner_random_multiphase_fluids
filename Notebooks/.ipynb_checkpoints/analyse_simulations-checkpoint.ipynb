{
 "cells": [
  {
   "cell_type": "code",
   "execution_count": 1,
   "id": "magnetic-courtesy",
   "metadata": {},
   "outputs": [],
   "source": [
    "import numpy as np\n",
    "import matplotlib.pyplot as plt\n",
    "import os\n",
    "import sys\n",
    "sys.path.append('..')\n",
    "from utils import input_parse"
   ]
  },
  {
   "cell_type": "code",
   "execution_count": 119,
   "id": "virgin-award",
   "metadata": {},
   "outputs": [],
   "source": [
    "import matplotlib; mpl =matplotlib\n",
    "mpl.rcParams['pdf.fonttype'] = 42\n",
    "mpl.rcParams['ps.fonttype'] = 42\n",
    "mpl.rcParams['figure.figsize'] = (12.0,9.0) # default = (6.0, 4.0)\n",
    "mpl.rcParams['font.size']      = 24        # default = 10\n",
    "\n",
    "mpl.rcParams['axes.linewidth']    = 0.75 # default = 1.0\n",
    "mpl.rcParams['lines.linewidth']   = 1.5 # default = 1.0\n",
    "mpl.rcParams['patch.linewidth']   = 1.0 # default = 1.0\n",
    "mpl.rcParams['grid.linewidth']    = 0.5 # default = 0.5\n",
    "mpl.rcParams['xtick.major.width'] = 1.0 # default = 0.5\n",
    "mpl.rcParams['xtick.minor.width'] = 0.0 # default = 0.5\n",
    "mpl.rcParams['ytick.major.width'] = 1.0 # default = 0.5\n",
    "mpl.rcParams['ytick.minor.width'] = 0.0 # default = 0.5\n",
    "\n",
    "colors = ['#fbb4ae','#b3cde3','#ccebc5','#decbe4','#fed9a6','#ffffcc','#e5d8bd','#fddaec'];\n",
    "\n",
    "def make_nice_axis(ax):\n",
    "    \"\"\" Function to beautify axis\"\"\"\n",
    "\n",
    "    ax.spines['top'].set_visible(False) # hide top axs\n",
    "    ax.spines['right'].set_visible(False)\n",
    "    ax.spines['bottom'].set_position(('outward', 30))\n",
    "    ax.spines['left'].set_position(('outward', 30))\n",
    "    ax.yaxis.set_ticks_position('left')\n",
    "    ax.xaxis.set_ticks_position('bottom')\n",
    "    ax.xaxis.set_tick_params(pad=10)\n",
    "    ax.yaxis.set_tick_params(pad=10)\n",
    "    ax.xaxis.set_tick_params(labelsize=18)\n",
    "    ax.yaxis.set_tick_params(labelsize=18)\n",
    "    ax.xaxis.labelpad = 10\n",
    "    ax.yaxis.labelpad = 20\n",
    "    \n",
    "# def plotly_beautify(plotly_fig):\n",
    "#     plotly_fig['layout']['xaxis1']['showline'] = True\n",
    "#     plotly_fig['layout']['yaxis1']['showline'] = True\n",
    "#     plotly_fig['layout']['xaxis1']['showgrid'] = True\n",
    "#     plotly_fig['layout']['yaxis1']['showgrid'] = True\n",
    "#     plotly_fig['layout']['showlegend'] = True\n",
    "\n",
    "def key_func(x,extension='.npy'):\n",
    "    \"\"\"\n",
    "    Input   =   List of PNG image file paths (x)\n",
    "    Output  =   List of filenames without extensions (to sort)\n",
    "    \"\"\"\n",
    "    return int(x.split('-')[-1].rstrip(extension))\n"
   ]
  },
  {
   "cell_type": "code",
   "execution_count": 120,
   "id": "deadly-technical",
   "metadata": {},
   "outputs": [],
   "source": [
    "def input_parse(filename,params_flag=False):\n",
    "    \"\"\"\n",
    "    Parses input files (filename is path to input parameters or param_list file)\n",
    "    params_flag toggles between input_params vs param_list\n",
    "    \"\"\"\n",
    "\n",
    "    input_parameters  ={};\n",
    "    with open(filename, 'r') as f:\n",
    "        count = 0;\n",
    "\n",
    "        for line in f:\n",
    "            line=line.strip();\n",
    "            if line.find('None') ==-1 and line.find('wJ') ==-1:\n",
    "                if line.find('[') ==-1:\n",
    "                    var_name,var_value = line.split(',');\n",
    "                    input_parameters[var_name] = float(var_value);\n",
    "                else:\n",
    "                    \n",
    "                    if line.find(',')>-1:\n",
    "                        var_name,var_value = line.split(',');\n",
    "                    else:\n",
    "                        var_name = '['\n",
    "                        var_value = line;\n",
    "                    if var_name.find('[')==-1:\n",
    "                        v = var_name;\n",
    "                        input_parameters[v] = [];\n",
    "                        input_parameters[v].append(np.array(var_value)); \n",
    "                    else:\n",
    "                        input_parameters[v].append(np.array(var_value))\n",
    "                            \n",
    "\n",
    "    return input_parameters;"
   ]
  },
  {
   "cell_type": "markdown",
   "id": "dynamic-aside",
   "metadata": {},
   "source": [
    "## Analyse simulation data"
   ]
  },
  {
   "cell_type": "code",
   "execution_count": 121,
   "id": "mounted-porcelain",
   "metadata": {},
   "outputs": [],
   "source": [
    "class Analyses:\n",
    "    \n",
    "    def __init__(self,ofol):\n",
    "        self.ofolder = ofol;\n",
    "        self.ofiles =  os.listdir(self.ofolder);\n",
    "        self.trajfol = [];\n",
    "        for f in self.ofiles:\n",
    "            self.trajfol.append(self.ofolder+'/' + f + '/')\n",
    "    \n",
    "    def mesh_data(self):\n",
    "        self.mesh_data ={};\n",
    "        for traj in self.trajfol:\n",
    "            self.mesh_data[traj] = {};\n",
    "            mesh_files = sorted(os.listdir(traj+'Mesh/'),key=key_func);\n",
    "            for m in mesh_files:\n",
    "                self.mesh_data[traj][m.split('-')[-1].rstrip('.npy')]=(np.load(traj+'Mesh/'+m))\n",
    "                \n",
    "    def load_params(self):\n",
    "        self.params = {};\n",
    "        for traj in self.trajfol:\n",
    "            param_file = traj+'all_params.txt'\n",
    "            self.params[traj] = input_parse(traj+'all_params.txt')"
   ]
  },
  {
   "cell_type": "code",
   "execution_count": 135,
   "id": "beautiful-environment",
   "metadata": {},
   "outputs": [],
   "source": [
    "class free_energy():\n",
    "    \n",
    "    def __init__(self,c0,chi,chis):\n",
    "        self.c0 = c0;\n",
    "        self.NCom = c0.shape[0];\n",
    "        self.chi = chi;\n",
    "        self.chis = chis;\n",
    "        self.cs = 1- np.sum(c0);\n",
    "        \n",
    "    def f(self,c):\n",
    "        f = np.sum(c*np.log(c)) + np.linalg.multi_dot((c.T,self.chi,c)) + (1-np.sum(c))*(np.log(1-np.sum(c)) + np.dot(chis.T,c)) \n",
    "        return(f)\n",
    "    \n",
    "    def jacobian(self,c,all_flag=True):\n",
    "        J = self.chi+ np.identity(self.NCom)/(c) + 1/(1-np.sum(c))  - self.chis - self.chis.T\n",
    "        wJ, vJ = np.linalg.eig(J)\n",
    "        if all_flag: \n",
    "            return(J,wJ,vJ)\n",
    "        else:\n",
    "            return(min(np.linalg.eigvals(J)))\n",
    "    \n",
    "    def mu(self,c):\n",
    "        c = np.matrix(c).T\n",
    "        cs = 1- np.sum(c);\n",
    "        mu = np.log(c) -np.log(cs) +np.dot(self.chi,c) + cs*self.chis - np.dot(self.chis.T,c);\n",
    "        return(mu.A1)\n",
    "    \n",
    "    def hessian(self,c,all_flag=True):\n",
    "        J = self.chi + np.identity(self.NCom)/(c) + 1/(1-np.sum(c))  - self.chis - self.chis.T\n",
    "        return(J)\n",
    "    \n",
    "    def laplace_corrected_mu(self,c1,c2):\n",
    "        cs1 = 1- np.sum(c1);\n",
    "        cs2 = 1- np.sum(c2);\n",
    "        residual_12 = np.log(c1/c2) - 0.5*np.linalg.multi_dot((c1.T,self.chi,c1)) + 0.5*np.linalg.multi_dot((c2.T,self.chi,c2)) + self.chis*(cs1-cs2) + np.dot(self.chi-self.chis.T,c1-c2);\n",
    "        return(np.power(residual_12,2))"
   ]
  },
  {
   "cell_type": "code",
   "execution_count": 201,
   "id": "vital-priest",
   "metadata": {},
   "outputs": [],
   "source": [
    "def pairwise_dist(x1,x2):\n",
    "    r=0.0;\n",
    "    for i in range(len(x1)):\n",
    "        r+= (x1[i]-x2[i])**2;\n",
    "    r = (r)**0.5;\n",
    "    return(r)\n",
    "\n",
    "def jacobian(c,chi,chis):\n",
    "    J = self.chi+ np.identity(self.NCom)/(c) + 1/(1-np.sum(c))  - self.chis - self.chis.T\n",
    "    wJ, vJ = np.linalg.eig(J)\n",
    "    return(min(np.linalg.eigvals(J)));\n",
    "    \n",
    "def compute_coexisting_phases(c,chi,chis,tol=5e-2):\n",
    "    i=0;\n",
    "    dist = [];\n",
    "    nphases =1;\n",
    "    x0 = []\n",
    "    all_r = [];\n",
    "    x0.append(c[0][:-1])\n",
    "    J_phases = [];\n",
    "    J_phases.append(jacobian(c[0][:-1],chi,chis))\n",
    "    for i in range(0,len(c)):\n",
    "        r = [];\n",
    "        for j in range(0,len(x0)):\n",
    "            r.append(pairwise_dist(c[i][:-1],x0[j]))\n",
    "        all_r.append(r)\n",
    "        if(min(r))>tol:\n",
    "            if (jacobian(c[i][:-1],chi,chis)>0):\n",
    "                nphases+=1;\n",
    "                x0.append(c[i][:-1])\n",
    "                J_phases.append(jacobian(c[i][:-1],chi,chis))\n",
    "    angles = np.zeros((nphases,nphases))\n",
    "    for i in range(nphases-1):\n",
    "        for j in range(i+1,nphases):\n",
    "            vector_p = np.dot(x0[i],x0[j])/(np.linalg.norm(x0[i])*np.linalg.norm(x0[j]))\n",
    "            angles[i,j] = (np.arccos(vector_p)/np.pi)*180\n",
    "            angles[j,i] = angles[i,j]\n",
    "            \n",
    "    return (nphases,J_phases,angles,x0)\n",
    "    "
   ]
  },
  {
   "cell_type": "code",
   "execution_count": null,
   "id": "nonprofit-brazilian",
   "metadata": {},
   "outputs": [],
   "source": []
  },
  {
   "cell_type": "code",
   "execution_count": 150,
   "id": "early-gasoline",
   "metadata": {},
   "outputs": [],
   "source": [
    "ofolder =  '../Output/test_multiphase/20210316/N_64.0_NCom_3.0_start_0.0_end_200000.0_chi_mean_5.0_chi_std_0.0_lmbda_5e-05_dt_1e-06_kappa_mag_10.0_beta_0.75_kon_0.0_r_mu_1.0_param_flag_None_/'\n",
    "X = Analyses(ofol=ofolder)"
   ]
  },
  {
   "cell_type": "code",
   "execution_count": 151,
   "id": "naval-associate",
   "metadata": {},
   "outputs": [],
   "source": [
    "X.mesh_data()\n",
    "X.load_params()"
   ]
  },
  {
   "cell_type": "code",
   "execution_count": 152,
   "id": "covered-baker",
   "metadata": {},
   "outputs": [],
   "source": [
    "mesh = X.mesh_data;\n",
    "trajs = list(mesh.keys());\n",
    "params = [];\n",
    "for traj in trajs:\n",
    "    concs = list(mesh[traj].keys())\n",
    "    c0 = [];\n",
    "    params.append(X.params[traj])\n",
    "    for c in concs:\n",
    "        c0.append(mesh[traj][c])"
   ]
  },
  {
   "cell_type": "code",
   "execution_count": 153,
   "id": "italic-departure",
   "metadata": {},
   "outputs": [],
   "source": [
    "chi = np.ones((3,3))*5\n",
    "chi[0,0]=0.0;\n",
    "chi[1,1]=0.0;\n",
    "chi[2,2]=0.0;\n",
    "chis = np.zeros(3)\n",
    "cs = np.ones(3)/4\n"
   ]
  },
  {
   "cell_type": "code",
   "execution_count": 140,
   "id": "discrete-israel",
   "metadata": {},
   "outputs": [],
   "source": [
    "FH = free_energy(cs,chi,chis)"
   ]
  },
  {
   "cell_type": "code",
   "execution_count": 213,
   "id": "partial-heaven",
   "metadata": {},
   "outputs": [
    {
     "ename": "TypeError",
     "evalue": "jacobian() takes from 2 to 3 positional arguments but 4 were given",
     "output_type": "error",
     "traceback": [
      "\u001b[0;31m---------------------------------------------------------------------------\u001b[0m",
      "\u001b[0;31mTypeError\u001b[0m                                 Traceback (most recent call last)",
      "\u001b[0;32m<ipython-input-213-614fd94e1a49>\u001b[0m in \u001b[0;36m<module>\u001b[0;34m\u001b[0m\n\u001b[1;32m     10\u001b[0m     \u001b[0mJ\u001b[0m\u001b[0;34m[\u001b[0m\u001b[0mj\u001b[0m\u001b[0;34m]\u001b[0m \u001b[0;34m=\u001b[0m \u001b[0mnp\u001b[0m\u001b[0;34m.\u001b[0m\u001b[0mreshape\u001b[0m\u001b[0;34m(\u001b[0m\u001b[0mJ\u001b[0m\u001b[0;34m[\u001b[0m\u001b[0mj\u001b[0m\u001b[0;34m]\u001b[0m\u001b[0;34m,\u001b[0m\u001b[0;34m(\u001b[0m\u001b[0mc0\u001b[0m\u001b[0;34m[\u001b[0m\u001b[0;36m0\u001b[0m\u001b[0;34m]\u001b[0m\u001b[0;34m.\u001b[0m\u001b[0mshape\u001b[0m\u001b[0;34m[\u001b[0m\u001b[0;36m1\u001b[0m\u001b[0;34m]\u001b[0m\u001b[0;34m,\u001b[0m\u001b[0mc0\u001b[0m\u001b[0;34m[\u001b[0m\u001b[0;36m0\u001b[0m\u001b[0;34m]\u001b[0m\u001b[0;34m.\u001b[0m\u001b[0mshape\u001b[0m\u001b[0;34m[\u001b[0m\u001b[0;36m2\u001b[0m\u001b[0;34m]\u001b[0m\u001b[0;34m)\u001b[0m\u001b[0;34m)\u001b[0m\u001b[0;34m\u001b[0m\u001b[0;34m\u001b[0m\u001b[0m\n\u001b[1;32m     11\u001b[0m     \u001b[0;32mif\u001b[0m \u001b[0mct\u001b[0m\u001b[0;34m[\u001b[0m\u001b[0;34m:\u001b[0m\u001b[0;34m,\u001b[0m\u001b[0mJ\u001b[0m\u001b[0;34m[\u001b[0m\u001b[0mj\u001b[0m\u001b[0;34m]\u001b[0m\u001b[0;34m>\u001b[0m\u001b[0;36m0\u001b[0m\u001b[0;34m]\u001b[0m\u001b[0;34m.\u001b[0m\u001b[0mT\u001b[0m\u001b[0;34m.\u001b[0m\u001b[0mshape\u001b[0m\u001b[0;34m[\u001b[0m\u001b[0;36m0\u001b[0m\u001b[0;34m]\u001b[0m\u001b[0;34m>\u001b[0m\u001b[0;36m0\u001b[0m\u001b[0;34m:\u001b[0m\u001b[0;34m\u001b[0m\u001b[0;34m\u001b[0m\u001b[0m\n\u001b[0;32m---> 12\u001b[0;31m         \u001b[0;34m(\u001b[0m\u001b[0mnphases\u001b[0m\u001b[0;34m,\u001b[0m\u001b[0mJ_phases\u001b[0m\u001b[0;34m,\u001b[0m\u001b[0mangles\u001b[0m\u001b[0;34m,\u001b[0m\u001b[0mx0\u001b[0m\u001b[0;34m)\u001b[0m \u001b[0;34m=\u001b[0m \u001b[0mcompute_coexisting_phases\u001b[0m\u001b[0;34m(\u001b[0m\u001b[0mct\u001b[0m\u001b[0;34m[\u001b[0m\u001b[0;34m:\u001b[0m\u001b[0;34m,\u001b[0m\u001b[0mJ\u001b[0m\u001b[0;34m[\u001b[0m\u001b[0mj\u001b[0m\u001b[0;34m]\u001b[0m\u001b[0;34m>\u001b[0m\u001b[0;36m0\u001b[0m\u001b[0;34m]\u001b[0m\u001b[0;34m.\u001b[0m\u001b[0mT\u001b[0m\u001b[0;34m,\u001b[0m\u001b[0mchi\u001b[0m\u001b[0;34m,\u001b[0m\u001b[0mchis\u001b[0m\u001b[0;34m,\u001b[0m\u001b[0mtol\u001b[0m\u001b[0;34m=\u001b[0m\u001b[0;36m2.0e-1\u001b[0m\u001b[0;34m)\u001b[0m\u001b[0;34m;\u001b[0m\u001b[0;34m\u001b[0m\u001b[0;34m\u001b[0m\u001b[0m\n\u001b[0m\u001b[1;32m     13\u001b[0m     \u001b[0;32melse\u001b[0m\u001b[0;34m:\u001b[0m\u001b[0;34m\u001b[0m\u001b[0;34m\u001b[0m\u001b[0m\n\u001b[1;32m     14\u001b[0m         \u001b[0mnphases\u001b[0m \u001b[0;34m=\u001b[0m\u001b[0;36m1\u001b[0m\u001b[0;34m;\u001b[0m\u001b[0;34m\u001b[0m\u001b[0;34m\u001b[0m\u001b[0m\n",
      "\u001b[0;32m<ipython-input-201-4c448d31a9df>\u001b[0m in \u001b[0;36mcompute_coexisting_phases\u001b[0;34m(c, chi, chis, tol)\u001b[0m\n\u001b[1;32m     19\u001b[0m     \u001b[0mx0\u001b[0m\u001b[0;34m.\u001b[0m\u001b[0mappend\u001b[0m\u001b[0;34m(\u001b[0m\u001b[0mc\u001b[0m\u001b[0;34m[\u001b[0m\u001b[0;36m0\u001b[0m\u001b[0;34m]\u001b[0m\u001b[0;34m[\u001b[0m\u001b[0;34m:\u001b[0m\u001b[0;34m-\u001b[0m\u001b[0;36m1\u001b[0m\u001b[0;34m]\u001b[0m\u001b[0;34m)\u001b[0m\u001b[0;34m\u001b[0m\u001b[0;34m\u001b[0m\u001b[0m\n\u001b[1;32m     20\u001b[0m     \u001b[0mJ_phases\u001b[0m \u001b[0;34m=\u001b[0m \u001b[0;34m[\u001b[0m\u001b[0;34m]\u001b[0m\u001b[0;34m;\u001b[0m\u001b[0;34m\u001b[0m\u001b[0;34m\u001b[0m\u001b[0m\n\u001b[0;32m---> 21\u001b[0;31m     \u001b[0mJ_phases\u001b[0m\u001b[0;34m.\u001b[0m\u001b[0mappend\u001b[0m\u001b[0;34m(\u001b[0m\u001b[0mFH\u001b[0m\u001b[0;34m.\u001b[0m\u001b[0mjacobian\u001b[0m\u001b[0;34m(\u001b[0m\u001b[0mc\u001b[0m\u001b[0;34m[\u001b[0m\u001b[0;36m0\u001b[0m\u001b[0;34m]\u001b[0m\u001b[0;34m[\u001b[0m\u001b[0;34m:\u001b[0m\u001b[0;34m-\u001b[0m\u001b[0;36m1\u001b[0m\u001b[0;34m]\u001b[0m\u001b[0;34m,\u001b[0m\u001b[0mchi\u001b[0m\u001b[0;34m,\u001b[0m\u001b[0mchis\u001b[0m\u001b[0;34m)\u001b[0m\u001b[0;34m)\u001b[0m\u001b[0;34m\u001b[0m\u001b[0;34m\u001b[0m\u001b[0m\n\u001b[0m\u001b[1;32m     22\u001b[0m     \u001b[0;32mfor\u001b[0m \u001b[0mi\u001b[0m \u001b[0;32min\u001b[0m \u001b[0mrange\u001b[0m\u001b[0;34m(\u001b[0m\u001b[0;36m0\u001b[0m\u001b[0;34m,\u001b[0m\u001b[0mlen\u001b[0m\u001b[0;34m(\u001b[0m\u001b[0mc\u001b[0m\u001b[0;34m)\u001b[0m\u001b[0;34m)\u001b[0m\u001b[0;34m:\u001b[0m\u001b[0;34m\u001b[0m\u001b[0;34m\u001b[0m\u001b[0m\n\u001b[1;32m     23\u001b[0m         \u001b[0mr\u001b[0m \u001b[0;34m=\u001b[0m \u001b[0;34m[\u001b[0m\u001b[0;34m]\u001b[0m\u001b[0;34m;\u001b[0m\u001b[0;34m\u001b[0m\u001b[0;34m\u001b[0m\u001b[0m\n",
      "\u001b[0;31mTypeError\u001b[0m: jacobian() takes from 2 to 3 positional arguments but 4 were given"
     ]
    }
   ],
   "source": [
    "j=0;\n",
    "J = [];\n",
    "nph = [];\n",
    "xph = [];\n",
    "for ct in c0[1:]:\n",
    "    c = np.reshape(ct,(ct.shape[0],ct.shape[1]*ct.shape[2]))\n",
    "    J.append(np.zeros(c.shape[1]))\n",
    "    for i in range(c.shape[1]):\n",
    "        J[j][i] = (FH.jacobian(c[:-1,i],all_flag=False))\n",
    "    J[j] = np.reshape(J[j],(c0[0].shape[1],c0[0].shape[2]))\n",
    "    if ct[:,J[j]>0].T.shape[0]>0:\n",
    "        (nphases,J_phases,angles,x0) = compute_coexisting_phases(ct[:,J[j]>0].T,chi,chis,tol=2.0e-1);\n",
    "    else:\n",
    "        nphases =1;\n",
    "        x0 = np.mean(ct,axis=(1,2))\n",
    "    nph.append(nphases)\n",
    "    xph.append(x0)\n",
    "    j+=1;"
   ]
  },
  {
   "cell_type": "code",
   "execution_count": 215,
   "id": "limiting-focus",
   "metadata": {},
   "outputs": [
    {
     "data": {
      "text/plain": [
       "[<matplotlib.lines.Line2D at 0x7f0753f97cd0>]"
      ]
     },
     "execution_count": 215,
     "metadata": {},
     "output_type": "execute_result"
    },
    {
     "data": {
      "image/png": "[encoded data removed]",
      "text/plain": [
       "<Figure size 864x648 with 1 Axes>"
      ]
     },
     "metadata": {
      "needs_background": "light"
     },
     "output_type": "display_data"
    }
   ],
   "source": [
    "plt.plot(nph)"
   ]
  },
  {
   "cell_type": "code",
   "execution_count": 177,
   "id": "related-finger",
   "metadata": {},
   "outputs": [],
   "source": [
    "def compute_coexisting_phases(c,FH,tol=5e-2):\n",
    "    i=0;\n",
    "    dist = [];\n",
    "    nphases =1;\n",
    "    x0 = []\n",
    "    all_r = [];\n",
    "    x0.append(c[0][:-1])\n",
    "    J_phases = [];\n",
    "    J_phases.append(FH.jacobian(c[0][:-1],all_flag=False))\n",
    "    for i in range(0,len(c)):\n",
    "        r = [];\n",
    "        for j in range(0,len(x0)):\n",
    "            r.append(pairwise_dist(c[i][:-1],x0[j]))\n",
    "        all_r.append(r)\n",
    "        if(min(r))>tol:\n",
    "            if (FH.jacobian(c[i][:-1],all_flag=False)>0):\n",
    "                nphases+=1;\n",
    "                x0.append(c[i][:-1])\n",
    "                J_phases.append(FH.jacobian(c[i][:-1],all_flag=False))\n",
    "    angles = np.zeros((nphases,nphases))\n",
    "    for i in range(nphases-1):\n",
    "        for j in range(i+1,nphases):\n",
    "            vector_p = np.dot(x0[i],x0[j])/(np.linalg.norm(x0[i])*np.linalg.norm(x0[j]))\n",
    "            angles[i,j] = (np.arccos(vector_p)/np.pi)*180\n",
    "            angles[j,i] = angles[i,j]\n",
    "            \n",
    "    return (nphases,J_phases,angles,x0)"
   ]
  },
  {
   "cell_type": "code",
   "execution_count": 193,
   "id": "bizarre-ladder",
   "metadata": {},
   "outputs": [],
   "source": [
    "(nphases,J_phases,angles,x0) = compute_coexisting_phases(c0[-1][:,J[-1]>0].T,FH,tol=2.0e-1)"
   ]
  },
  {
   "cell_type": "code",
   "execution_count": 194,
   "id": "alleged-thumbnail",
   "metadata": {},
   "outputs": [
    {
     "name": "stdout",
     "output_type": "stream",
     "text": [
      "number of minima are 4 and the concentrations are \n",
      " [[0.0242806  0.02214226 0.76296093]\n",
      " [0.65713156 0.04494581 0.05181932]\n",
      " [0.04967169 0.62471606 0.06812285]\n",
      " [0.01449516 0.81467952 0.0148463 ]]\n",
      "stability of minima are [2.791473017881158, 0.6262254362234696, 0.12376222682655401, 4.444693292005662] and the angles are \n",
      " [[ 0.         83.57207016 81.99811037 87.26300379]\n",
      " [83.57207016  0.         81.12596852 85.00178581]\n",
      " [81.99811037 81.12596852  0.          6.24544069]\n",
      " [87.26300379 85.00178581  6.24544069  0.        ]]\n"
     ]
    }
   ],
   "source": [
    "print(\"number of minima are {} and the concentrations are \\n {}\".format(nphases,np.matrix(x0)))\n",
    "print(\"stability of minima are {} and the angles are \\n {}\".format(J_phases,np.matrix(angles)))\n"
   ]
  },
  {
   "cell_type": "code",
   "execution_count": 112,
   "id": "attached-sunday",
   "metadata": {},
   "outputs": [
    {
     "name": "stdout",
     "output_type": "stream",
     "text": [
      "[0.13455772 0.17786381 0.44357767]\n"
     ]
    },
    {
     "data": {
      "text/plain": [
       "(array([[11.53010193,  9.09834717,  9.09834717],\n",
       "        [ 9.09834717,  9.72062643,  9.09834717],\n",
       "        [ 9.09834717,  9.09834717,  6.35274381]]),\n",
       " array([27.5613939 ,  1.57657624, -1.53449797]),\n",
       " array([[ 0.62528148,  0.73676845, -0.25728452],\n",
       "        [ 0.5832819 , -0.66024368, -0.473139  ],\n",
       "        [ 0.51846436, -0.14577565,  0.84258184]]))"
      ]
     },
     "execution_count": 112,
     "metadata": {},
     "output_type": "execute_result"
    }
   ],
   "source": [
    "print(c0[-1][:-1,5,5])\n",
    "FH.jacobian(c0[-1][:-1,5,5],all_flag=True)"
   ]
  },
  {
   "cell_type": "code",
   "execution_count": 92,
   "id": "egyptian-salvation",
   "metadata": {},
   "outputs": [
    {
     "data": {
      "text/plain": [
       "(4, 64, 64)"
      ]
     },
     "execution_count": 92,
     "metadata": {},
     "output_type": "execute_result"
    }
   ],
   "source": [
    "c0[-3].shape"
   ]
  }
 ],
 "metadata": {
  "kernelspec": {
   "display_name": "Python 3",
   "language": "python",
   "name": "python3"
  },
  "language_info": {
   "codemirror_mode": {
    "name": "ipython",
    "version": 3
   },
   "file_extension": ".py",
   "mimetype": "text/x-python",
   "name": "python",
   "nbconvert_exporter": "python",
   "pygments_lexer": "ipython3",
   "version": "3.8.5"
  }
 },
 "nbformat": 4,
 "nbformat_minor": 5
}
